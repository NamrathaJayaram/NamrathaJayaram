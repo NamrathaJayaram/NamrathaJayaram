{
 "cells": [
  {
   "cell_type": "code",
   "execution_count": 1,
   "metadata": {
    "scrolled": true
   },
   "outputs": [
    {
     "name": "stdout",
     "output_type": "stream",
     "text": [
      "Enter the string: string\n",
      "s\n",
      "t\n",
      "r\n",
      "i\n",
      "n\n",
      "g\n"
     ]
    }
   ],
   "source": [
    "str1 = input(\"Enter the string: \")\n",
    "for i in str1:\n",
    "    print(i)"
   ]
  },
  {
   "cell_type": "code",
   "execution_count": 3,
   "metadata": {
    "scrolled": true
   },
   "outputs": [
    {
     "name": "stdout",
     "output_type": "stream",
     "text": [
      "Enter the string: abcd\n",
      "97\n",
      "98\n",
      "99\n",
      "100\n"
     ]
    }
   ],
   "source": [
    "str2 = input(\"Enter the string: \")\n",
    "for i in str2:\n",
    "    print(ord(i))"
   ]
  },
  {
   "cell_type": "code",
   "execution_count": 4,
   "metadata": {
    "scrolled": true
   },
   "outputs": [
    {
     "name": "stdout",
     "output_type": "stream",
     "text": [
      "Enter the maximum length of a list: 3\n",
      "Enter integer value to the list: 1\n",
      "Enter integer value to the list: 2\n",
      "Enter integer value to the list: 3\n",
      "This is your list:  [1, 2, 3]\n",
      "4\n"
     ]
    }
   ],
   "source": [
    "def odd_numbers (my_list):\n",
    "    total = 0\n",
    "    count = 0\n",
    "    for number in my_list:\n",
    "        if (number % 2 == 1):\n",
    "            total = total + number \n",
    "        \n",
    "    return (total)\n",
    "\n",
    "\n",
    "my_list = []\n",
    "n = int(input(\"Enter the maximum length of a list: \"))\n",
    "while (len(my_list) < n):\n",
    "    item = int(input (\"Enter integer value to the list: \"))\n",
    "    my_list.append(item)\n",
    "print (\"This is your list: \", my_list)\n",
    "result = odd_numbers(my_list)\n",
    "print (result)"
   ]
  },
  {
   "cell_type": "code",
   "execution_count": 19,
   "metadata": {
    "scrolled": true
   },
   "outputs": [
    {
     "name": "stdout",
     "output_type": "stream",
     "text": [
      "Enter the maximum length of a list: 3\n",
      "This is your list:  [2, 1, 2, 3, 6]\n",
      "(2, 1, 2, 3, 6)\n",
      "Enter a new number: 7\n"
     ]
    },
    {
     "ename": "ValueError",
     "evalue": "tuple.index(x): x not in tuple",
     "output_type": "error",
     "traceback": [
      "\u001b[1;31m---------------------------------------------------------------------------\u001b[0m",
      "\u001b[1;31mValueError\u001b[0m                                Traceback (most recent call last)",
      "\u001b[1;32m<ipython-input-19-35c39304445a>\u001b[0m in \u001b[0;36m<module>\u001b[1;34m\u001b[0m\n\u001b[0;32m      9\u001b[0m \u001b[0mx\u001b[0m \u001b[1;33m=\u001b[0m \u001b[0mint\u001b[0m\u001b[1;33m(\u001b[0m\u001b[0minput\u001b[0m\u001b[1;33m(\u001b[0m\u001b[1;34m\"Enter a new number: \"\u001b[0m\u001b[1;33m)\u001b[0m\u001b[1;33m)\u001b[0m\u001b[1;33m\u001b[0m\u001b[1;33m\u001b[0m\u001b[0m\n\u001b[0;32m     10\u001b[0m \u001b[0mmy_list1\u001b[0m\u001b[1;33m.\u001b[0m\u001b[0mappend\u001b[0m\u001b[1;33m(\u001b[0m\u001b[0mx\u001b[0m\u001b[1;33m)\u001b[0m\u001b[1;33m\u001b[0m\u001b[1;33m\u001b[0m\u001b[0m\n\u001b[1;32m---> 11\u001b[1;33m \u001b[0mprint\u001b[0m\u001b[1;33m(\u001b[0m\u001b[0mt\u001b[0m\u001b[1;33m.\u001b[0m\u001b[0mindex\u001b[0m\u001b[1;33m(\u001b[0m\u001b[0mx\u001b[0m\u001b[1;33m)\u001b[0m\u001b[1;33m)\u001b[0m\u001b[1;33m\u001b[0m\u001b[1;33m\u001b[0m\u001b[0m\n\u001b[0m",
      "\u001b[1;31mValueError\u001b[0m: tuple.index(x): x not in tuple"
     ]
    }
   ],
   "source": [
    "n = int(input(\"Enter the maximum length of a list: \"))\n",
    "while (len(my_list1) < n):\n",
    "    item = int(input (\"Enter integer value to the list: \"))\n",
    "    my_list1.append(item)\n",
    "print (\"This is your list: \", my_list1)\n",
    "t = tuple(my_list1)\n",
    "print(t)\n",
    "\n",
    "x = int(input(\"Enter a new number: \"))\n",
    "my_list1.append(x)\n",
    "print(t.index(x))\n"
   ]
  },
  {
   "cell_type": "code",
   "execution_count": 18,
   "metadata": {
    "scrolled": true
   },
   "outputs": [
    {
     "name": "stdout",
     "output_type": "stream",
     "text": [
      "The list is:  [11, 14, 22, 3, 19, 31, 24, 9, 6, 38]\n",
      "Sum of the numbers is:  177\n",
      "Average is:  17.7\n",
      "The list with even numbers is:  [14, 22, 24, 6, 38]\n"
     ]
    }
   ],
   "source": [
    "import random\n",
    "my_random = []\n",
    "my_random_even = []\n",
    "total = 0\n",
    "for i in range(10):\n",
    "    my_random.append(random.randrange(1,40))\n",
    "    total = total + my_random[i]\n",
    "\n",
    "print(\"The list is: \",my_random)\n",
    "print(\"Sum of the numbers is: \",total)\n",
    "print(\"Average is: \",total/10)\n",
    "for j in my_random :\n",
    "    if (j% 2 == 0):\n",
    "        my_random_even.append(j)\n",
    "print(\"The list with even numbers is: \", my_random_even)"
   ]
  },
  {
   "cell_type": "code",
   "execution_count": 20,
   "metadata": {
    "scrolled": true
   },
   "outputs": [
    {
     "name": "stdout",
     "output_type": "stream",
     "text": [
      "Enter the number1\n",
      "Enter the number2\n",
      "Enter the number3\n",
      "Enter the number4\n",
      "Enter the number5\n",
      "Enter the number6\n",
      "Enter the number7\n",
      "Enter the number8\n",
      "Enter the number9\n",
      "Enter the number10\n",
      "The list is:  [1, 2, 3, 4, 5, 6, 7, 8, 9, 10]\n",
      "Sum is:  55\n"
     ]
    }
   ],
   "source": [
    "mylist1 = []\n",
    "tot = 0\n",
    "for _ in range(10):\n",
    "    n = int(input(\"Enter the number\"))\n",
    "    mylist1.append(n)\n",
    "    tot += n\n",
    "    \n",
    "print(\"The list is: \",mylist1)\n",
    "print(\"Sum is: \",tot)"
   ]
  },
  {
   "cell_type": "code",
   "execution_count": 24,
   "metadata": {
    "scrolled": true
   },
   "outputs": [
    {
     "name": "stdout",
     "output_type": "stream",
     "text": [
      "Enter the number to print its tables7\n",
      "7 X 1 =  7\n",
      "7 X 2 =  14\n",
      "7 X 3 =  21\n",
      "7 X 4 =  28\n",
      "7 X 5 =  35\n",
      "7 X 6 =  42\n",
      "7 X 7 =  49\n",
      "7 X 8 =  56\n",
      "7 X 9 =  63\n",
      "7 X 10 =  70\n"
     ]
    }
   ],
   "source": [
    "num = int(input(\"Enter the number to print its tables\"))\n",
    "for i in range(1,11):\n",
    "    print(\"{} X {} = \".format(num,i),num*i)\n",
    "    \n"
   ]
  },
  {
   "cell_type": "code",
   "execution_count": 27,
   "metadata": {},
   "outputs": [
    {
     "name": "stdout",
     "output_type": "stream",
     "text": [
      "Enter the string: i am a\n",
      "2\n"
     ]
    }
   ],
   "source": [
    "str1 = input(\"Enter the string: \")\n",
    "print(str1.count(' '))\n",
    "    "
   ]
  },
  {
   "cell_type": "code",
   "execution_count": 28,
   "metadata": {
    "scrolled": true
   },
   "outputs": [
    {
     "name": "stdout",
     "output_type": "stream",
     "text": [
      "Enter the string: i am a\n",
      "The number of spaces in the given string is:  2\n"
     ]
    }
   ],
   "source": [
    "str2 = input(\"Enter the string: \")\n",
    "count = 0\n",
    "for i in str2:\n",
    "    if (i == \" \"):\n",
    "        count += 1\n",
    "print(\"The number of spaces in the given string is: \",count)"
   ]
  },
  {
   "cell_type": "code",
   "execution_count": 46,
   "metadata": {},
   "outputs": [
    {
     "name": "stdout",
     "output_type": "stream",
     "text": [
      "Enter the string: this is EOU\n",
      "The number of vowels in the given string is:  5\n"
     ]
    }
   ],
   "source": [
    "\n",
    "def is_vowel(str3):\n",
    "    count = 0\n",
    "    vowel = set(\"aeiouAEIOU\")\n",
    "\n",
    "    for j in str3:\n",
    "        if j in vowel:\n",
    "            count += 1\n",
    "    print(\"The number of vowels in the given string is: \",count)\n",
    "\n",
    "str3 = input(\"Enter the string: \")\n",
    "is_vowel(str3)\n"
   ]
  },
  {
   "cell_type": "code",
   "execution_count": 54,
   "metadata": {
    "scrolled": true
   },
   "outputs": [
    {
     "name": "stdout",
     "output_type": "stream",
     "text": [
      "False\n",
      "True\n"
     ]
    }
   ],
   "source": [
    "def is_vowel(char):\n",
    "    all_vowels = 'aeiou'\n",
    "    return char in all_vowels\n",
    "print(is_vowel('c'))\n",
    "print(is_vowel('e'))\n"
   ]
  },
  {
   "cell_type": "code",
   "execution_count": 27,
   "metadata": {
    "scrolled": true
   },
   "outputs": [
    {
     "name": "stdout",
     "output_type": "stream",
     "text": [
      "0\n",
      "Loop ends\n"
     ]
    }
   ],
   "source": [
    "for num in range(10):\n",
    "    print(num)\n",
    "    if (num % 2==0):\n",
    "        break\n",
    "print(\"Loop ends\")"
   ]
  },
  {
   "cell_type": "code",
   "execution_count": 31,
   "metadata": {},
   "outputs": [
    {
     "name": "stdout",
     "output_type": "stream",
     "text": [
      "0\n",
      "1\n",
      "2\n",
      "3\n",
      "4\n",
      "5\n",
      "6\n",
      "7\n",
      "8\n",
      "9\n",
      "Loop ends\n"
     ]
    }
   ],
   "source": [
    "import sys\n",
    "for num in range(10):\n",
    "    print(num)\n",
    "    if (num % 4==0):\n",
    "        sys.exit\n",
    "print(\"Loop ends\")"
   ]
  },
  {
   "cell_type": "code",
   "execution_count": 34,
   "metadata": {},
   "outputs": [
    {
     "name": "stdout",
     "output_type": "stream",
     "text": [
      "*****\n",
      "*****\n",
      "*****\n",
      "*****\n",
      "*****\n"
     ]
    }
   ],
   "source": [
    "for i1 in range(5):\n",
    "    for i2 in range(5):\n",
    "        print('*',end = '')\n",
    "    print()"
   ]
  },
  {
   "cell_type": "code",
   "execution_count": 36,
   "metadata": {
    "scrolled": true
   },
   "outputs": [
    {
     "name": "stdout",
     "output_type": "stream",
     "text": [
      "\n",
      "*\n",
      "**\n",
      "***\n",
      "****\n"
     ]
    }
   ],
   "source": [
    "for i1 in range(5):\n",
    "    for i2 in range(i1):\n",
    "        print('*',end = '')\n",
    "    print()"
   ]
  },
  {
   "cell_type": "code",
   "execution_count": 40,
   "metadata": {
    "scrolled": false
   },
   "outputs": [
    {
     "name": "stdout",
     "output_type": "stream",
     "text": [
      "1\n",
      "22\n",
      "333\n",
      "4444\n",
      "55555\n"
     ]
    }
   ],
   "source": [
    "for i1 in range(1,6):\n",
    "        print(str(i1)*i1)\n"
   ]
  },
  {
   "cell_type": "code",
   "execution_count": 47,
   "metadata": {},
   "outputs": [
    {
     "name": "stdout",
     "output_type": "stream",
     "text": [
      "11\n",
      "12\n"
     ]
    }
   ],
   "source": [
    "print(str('1')*2)\n",
    "print(str('1')+ str('2'))"
   ]
  },
  {
   "cell_type": "code",
   "execution_count": 41,
   "metadata": {},
   "outputs": [
    {
     "name": "stdout",
     "output_type": "stream",
     "text": [
      "**\n",
      "***\n",
      "****\n",
      "*****\n",
      "******\n"
     ]
    }
   ],
   "source": [
    "for i1 in range(1,6):\n",
    "    for i2 in range(i1+1):\n",
    "        print('*',end = '')\n",
    "    print()"
   ]
  }
 ],
 "metadata": {
  "kernelspec": {
   "display_name": "Python 3",
   "language": "python",
   "name": "python3"
  },
  "language_info": {
   "codemirror_mode": {
    "name": "ipython",
    "version": 3
   },
   "file_extension": ".py",
   "mimetype": "text/x-python",
   "name": "python",
   "nbconvert_exporter": "python",
   "pygments_lexer": "ipython3",
   "version": "3.7.3"
  }
 },
 "nbformat": 4,
 "nbformat_minor": 2
}
