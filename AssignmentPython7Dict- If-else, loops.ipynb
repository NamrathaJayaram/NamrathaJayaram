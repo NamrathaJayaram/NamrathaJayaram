{
 "cells": [
  {
   "cell_type": "code",
   "execution_count": 1,
   "metadata": {
    "scrolled": true
   },
   "outputs": [
    {
     "name": "stdout",
     "output_type": "stream",
     "text": [
      "{1: -1, 2: -2, 3: -3, 4: -4, 5: -5}\n"
     ]
    }
   ],
   "source": [
    "d= {}\n",
    "for c in range(1,6):\n",
    "    d[c] = -c\n",
    "print(d)"
   ]
  },
  {
   "cell_type": "code",
   "execution_count": 18,
   "metadata": {
    "scrolled": true
   },
   "outputs": [
    {
     "ename": "SyntaxError",
     "evalue": "invalid syntax (<ipython-input-18-1b8ff901c8a7>, line 1)",
     "output_type": "error",
     "traceback": [
      "\u001b[1;36m  File \u001b[1;32m\"<ipython-input-18-1b8ff901c8a7>\"\u001b[1;36m, line \u001b[1;32m1\u001b[0m\n\u001b[1;33m    = dict(1=2,2=3)\u001b[0m\n\u001b[1;37m    ^\u001b[0m\n\u001b[1;31mSyntaxError\u001b[0m\u001b[1;31m:\u001b[0m invalid syntax\n"
     ]
    }
   ],
   "source": [
    "= dict(1=2,2=3)"
   ]
  },
  {
   "cell_type": "code",
   "execution_count": 20,
   "metadata": {
    "scrolled": true
   },
   "outputs": [
    {
     "name": "stdout",
     "output_type": "stream",
     "text": [
      "Help on class zip in module builtins:\n",
      "\n",
      "class zip(object)\n",
      " |  zip(iter1 [,iter2 [...]]) --> zip object\n",
      " |  \n",
      " |  Return a zip object whose .__next__() method returns a tuple where\n",
      " |  the i-th element comes from the i-th iterable argument.  The .__next__()\n",
      " |  method continues until the shortest iterable in the argument sequence\n",
      " |  is exhausted and then it raises StopIteration.\n",
      " |  \n",
      " |  Methods defined here:\n",
      " |  \n",
      " |  __getattribute__(self, name, /)\n",
      " |      Return getattr(self, name).\n",
      " |  \n",
      " |  __iter__(self, /)\n",
      " |      Implement iter(self).\n",
      " |  \n",
      " |  __next__(self, /)\n",
      " |      Implement next(self).\n",
      " |  \n",
      " |  __reduce__(...)\n",
      " |      Return state information for pickling.\n",
      " |  \n",
      " |  ----------------------------------------------------------------------\n",
      " |  Static methods defined here:\n",
      " |  \n",
      " |  __new__(*args, **kwargs) from builtins.type\n",
      " |      Create and return a new object.  See help(type) for accurate signature.\n",
      "\n"
     ]
    }
   ],
   "source": [
    "help(zip)  #-- shift+tab on zip() gives the similar result"
   ]
  },
  {
   "cell_type": "code",
   "execution_count": 21,
   "metadata": {},
   "outputs": [
    {
     "name": "stdout",
     "output_type": "stream",
     "text": [
      "{1: 10, 2: 20, 3: 30, 4: 40}\n"
     ]
    }
   ],
   "source": [
    "l1 = [1,2,3,4]\n",
    "l2 = [10,20,30,40]\n",
    "dictionary = dict(zip(l1,l2))\n",
    "print(dictionary)"
   ]
  },
  {
   "cell_type": "code",
   "execution_count": 28,
   "metadata": {},
   "outputs": [
    {
     "name": "stdout",
     "output_type": "stream",
     "text": [
      "{'A': 65, 'B': 66, 'C': 67, 'D': 68, 'E': 69, 'F': 70, 'G': 71, 'H': 72, 'I': 73, 'J': 74, 'K': 75, 'L': 76, 'M': 77, 'N': 78, 'O': 79, 'P': 80, 'Q': 81, 'R': 82, 'S': 83, 'T': 84, 'U': 85, 'V': 86, 'W': 87, 'X': 88, 'Y': 89, 'Z': 90}\n"
     ]
    }
   ],
   "source": [
    "a = []\n",
    "b = []\n",
    "for i in range(65,91):\n",
    "    a.append(chr(i))\n",
    "    b.append(i)\n",
    "\n",
    "d1 = dict(zip(a,b))\n",
    "print(d1)   "
   ]
  },
  {
   "cell_type": "code",
   "execution_count": 32,
   "metadata": {
    "scrolled": true
   },
   "outputs": [
    {
     "name": "stdout",
     "output_type": "stream",
     "text": [
      "Enter the number: 10\n",
      "not sure\n"
     ]
    }
   ],
   "source": [
    "num = int(input(\"Enter the number: \"))\n",
    "word = ''\n",
    "if(num == 1):\n",
    "    word = 'one'\n",
    "elif num == 2:\n",
    "    word = 'two'\n",
    "elif num == 3:\n",
    "    word = 'three'\n",
    "elif num == 4:\n",
    "    word = 'four'\n",
    "elif num == 5:\n",
    "    word = 'five'\n",
    "elif num == 6:\n",
    "    word = 'six'\n",
    "elif num == 7:\n",
    "    word = 'seven'\n",
    "elif num == 8:\n",
    "    word = 'eight'\n",
    "elif num == 9:\n",
    "    word = 'nine'\n",
    "else:\n",
    "    word = 'not sure'\n",
    "\n",
    "print(word)\n",
    "    "
   ]
  },
  {
   "cell_type": "code",
   "execution_count": 41,
   "metadata": {
    "scrolled": true
   },
   "outputs": [
    {
     "name": "stdout",
     "output_type": "stream",
     "text": [
      "{1: 'one', 2: 'two', 3: 'three', 4: 'four', 5: 'five', 6: 'six', 7: 'seven', 8: 'eight', 9: 'nine'}\n",
      "dict_keys([1, 2, 3, 4, 5, 6, 7, 8, 9])\n",
      "dict_values(['one', 'two', 'three', 'four', 'five', 'six', 'seven', 'eight', 'nine'])\n",
      "dict_items([(1, 'one'), (2, 'two'), (3, 'three'), (4, 'four'), (5, 'five'), (6, 'six'), (7, 'seven'), (8, 'eight'), (9, 'nine')])\n"
     ]
    }
   ],
   "source": [
    "num = [1,2,3,4,5,6,7,8,9]\n",
    "word = ['one','two','three','four','five','six','seven','eight','nine']\n",
    "diclist = dict(zip(num,word))\n",
    "print(diclist)\n",
    "print(diclist.keys())\n",
    "print(diclist.values())\n",
    "print(diclist.items())"
   ]
  },
  {
   "cell_type": "code",
   "execution_count": 40,
   "metadata": {
    "scrolled": true
   },
   "outputs": [
    {
     "name": "stdout",
     "output_type": "stream",
     "text": [
      "{'A': 'Apple', 'B': 'Ball', 'C': 'Cat', 'D': 'Dog'}\n",
      "{'A': 'Apple', 'C': 'Cat'}\n"
     ]
    }
   ],
   "source": [
    "l1 = ['A','B','C','D']\n",
    "l2 = ['Apple','Ball','Cat','Dog']\n",
    "d1 = dict(zip(l1,l2))\n",
    "print(d1)\n",
    "d2 = dict(list(d1.items())[::2])\n",
    "print(d2)"
   ]
  },
  {
   "cell_type": "code",
   "execution_count": 59,
   "metadata": {
    "scrolled": true
   },
   "outputs": [
    {
     "name": "stdout",
     "output_type": "stream",
     "text": [
      "Enter the string: Beautiful day\n",
      "{'a': 2, 'e': 1, 'i': 1, 'o': 0, 'u': 2}\n"
     ]
    }
   ],
   "source": [
    "str1 = input(\"Enter the string: \")\n",
    "vowel = \"aeiou\"\n",
    "count = {}.fromkeys(vowel,0)\n",
    "for x in str1:\n",
    "    if x in vowel:\n",
    "        count[x]+=1\n",
    "print(count)"
   ]
  },
  {
   "cell_type": "code",
   "execution_count": 2,
   "metadata": {},
   "outputs": [
    {
     "name": "stdout",
     "output_type": "stream",
     "text": [
      "Enter the string: this is\n",
      "{'t': 1, 'h': 1, 'i': 2, 's': 2, ' ': 1}\n"
     ]
    }
   ],
   "source": [
    "ip_str = input(\"Enter the string: \")\n",
    "\n",
    "count1 = {}\n",
    "\n",
    "for char in ip_str:\n",
    "    \n",
    "    if char in count1:\n",
    "        count1[char] += 1\n",
    "    else:\n",
    "        count1[char]=1\n",
    "\n",
    "print(count1)"
   ]
  },
  {
   "cell_type": "code",
   "execution_count": 6,
   "metadata": {},
   "outputs": [
    {
     "name": "stdout",
     "output_type": "stream",
     "text": [
      "Enter the string: beauty\n",
      "Counter({'b': 1, 'e': 1, 'a': 1, 'u': 1, 't': 1, 'y': 1})\n"
     ]
    }
   ],
   "source": [
    "from collections import Counter \n",
    "  \n",
    "# initializing string  \n",
    "test_str =  input(\"Enter the string: \")\n",
    "  \n",
    "# using collections.Counter() to get  \n",
    "# count of each element in string  \n",
    "res = Counter(test_str) \n",
    "  \n",
    "# printing result  \n",
    "print (res)"
   ]
  },
  {
   "cell_type": "code",
   "execution_count": 7,
   "metadata": {},
   "outputs": [
    {
     "name": "stdout",
     "output_type": "stream",
     "text": [
      "Enter the string: apple orange apple\n",
      "{'apple': 2, 'orange': 1}\n"
     ]
    }
   ],
   "source": [
    "str2 = input(\"Enter the string: \")\n",
    "words = str2.split()\n",
    "di = {}\n",
    "for i in words:\n",
    "    di[i] = di.get(i,0)+1\n",
    "\n",
    "print(di)\n",
    "    "
   ]
  }
 ],
 "metadata": {
  "kernelspec": {
   "display_name": "Python 3",
   "language": "python",
   "name": "python3"
  },
  "language_info": {
   "codemirror_mode": {
    "name": "ipython",
    "version": 3
   },
   "file_extension": ".py",
   "mimetype": "text/x-python",
   "name": "python",
   "nbconvert_exporter": "python",
   "pygments_lexer": "ipython3",
   "version": "3.7.3"
  }
 },
 "nbformat": 4,
 "nbformat_minor": 2
}
