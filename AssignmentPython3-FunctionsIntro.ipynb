{
 "cells": [
  {
   "cell_type": "code",
   "execution_count": 3,
   "metadata": {
    "scrolled": true
   },
   "outputs": [
    {
     "name": "stdout",
     "output_type": "stream",
     "text": [
      "Enter the first string: ab\n",
      "Enter the second string: cd\n",
      "Before swapping:\n",
      "ab cd\n",
      "After swapping:\n",
      "cd ab\n"
     ]
    }
   ],
   "source": [
    "str1 = input(\"Enter the first string: \")\n",
    "str2 = input(\"Enter the second string: \")\n",
    "print(\"Before swapping:\")\n",
    "print(str1,str2)\n",
    "str1,str2 = str2,str1\n",
    "print(\"After swapping:\")\n",
    "print(str1,str2)"
   ]
  },
  {
   "cell_type": "code",
   "execution_count": 4,
   "metadata": {},
   "outputs": [
    {
     "name": "stdout",
     "output_type": "stream",
     "text": [
      "9 22 8 25\n",
      "Their average is:  16.0\n"
     ]
    }
   ],
   "source": [
    "import random\n",
    "\n",
    "r1 = random.randrange(0,26)\n",
    "r2 = random.randrange(0,26)\n",
    "r3 = random.randrange(0,26)\n",
    "r4 = random.randrange(0,26)\n",
    "print(r1,r2,r3,r4)\n",
    "print(\"Their average is: \", (r1+r2+r3+r4)/4)\n",
    "\n"
   ]
  },
  {
   "cell_type": "code",
   "execution_count": 10,
   "metadata": {},
   "outputs": [
    {
     "name": "stdout",
     "output_type": "stream",
     "text": [
      "j\n"
     ]
    }
   ],
   "source": [
    "string1 = 'abcdefgjAJHCGJOPL'\n",
    "str3 = random.choice(string1)\n",
    "print(str3)"
   ]
  },
  {
   "cell_type": "code",
   "execution_count": 17,
   "metadata": {
    "scrolled": false
   },
   "outputs": [
    {
     "name": "stdout",
     "output_type": "stream",
     "text": [
      "p\n",
      "V\n"
     ]
    }
   ],
   "source": [
    "print (chr(random.randrange(ord('a'),ord('z'))))\n",
    "print(chr(random.randint(ord('A'), ord('Z'))))"
   ]
  },
  {
   "cell_type": "code",
   "execution_count": 21,
   "metadata": {},
   "outputs": [
    {
     "name": "stdout",
     "output_type": "stream",
     "text": [
      "15.0\n"
     ]
    }
   ],
   "source": [
    "def get_si(p,r,t):\n",
    "    si = p*r*t/100\n",
    "    return si\n",
    "\n",
    "s = get_si(100,3,5)\n",
    "print(s)"
   ]
  },
  {
   "cell_type": "code",
   "execution_count": 22,
   "metadata": {},
   "outputs": [
    {
     "name": "stdout",
     "output_type": "stream",
     "text": [
      "110.0\n"
     ]
    }
   ],
   "source": [
    "def get_amount(p,r=10,t=1):\n",
    "    am = p + get_si(p,10,1)\n",
    "    return am\n",
    "\n",
    "amount = get_amount(100)\n",
    "print(amount)"
   ]
  },
  {
   "cell_type": "code",
   "execution_count": 23,
   "metadata": {},
   "outputs": [
    {
     "name": "stdout",
     "output_type": "stream",
     "text": [
      "1600\n"
     ]
    }
   ],
   "source": [
    "def get_ci(p,r,t):\n",
    "    return p * pow((1+r),t)\n",
    "\n",
    "ci = get_ci(100,3,2)\n",
    "print(ci)"
   ]
  },
  {
   "cell_type": "code",
   "execution_count": 35,
   "metadata": {},
   "outputs": [
    {
     "name": "stdout",
     "output_type": "stream",
     "text": [
      "(1, 2) <class 'tuple'>\n"
     ]
    }
   ],
   "source": [
    "def get_q_r(n1,n2):\n",
    "    return n1//n2, n1%n2\n",
    "\n",
    "res= get_q_r(5,3)\n",
    "print(res,type(res))"
   ]
  },
  {
   "cell_type": "code",
   "execution_count": 34,
   "metadata": {},
   "outputs": [
    {
     "name": "stdout",
     "output_type": "stream",
     "text": [
      "(1, 2) <class 'tuple'>\n"
     ]
    }
   ],
   "source": [
    "def get_q_r(n1,n2):\n",
    "    d=(n1//n2,n1%n2)\n",
    "    return d\n",
    "\n",
    "res = get_q_r(5,3)\n",
    "print(res,type(res))"
   ]
  },
  {
   "cell_type": "code",
   "execution_count": 37,
   "metadata": {
    "scrolled": true
   },
   "outputs": [
    {
     "name": "stdout",
     "output_type": "stream",
     "text": [
      "Enter height: 3\n",
      "Enter base: 4\n",
      "The length of the hypotenuse is: 5.0\n"
     ]
    }
   ],
   "source": [
    "import math\n",
    "\n",
    "height = float(input(\"Enter height: \"))\n",
    "base = float(input(\"Enter base: \"))\n",
    "\n",
    "hyp = math.sqrt((height*height) + (base*base))\n",
    "print(\"The length of the hypotenuse is:\", hyp)\n"
   ]
  },
  {
   "cell_type": "code",
   "execution_count": 50,
   "metadata": {},
   "outputs": [
    {
     "name": "stdout",
     "output_type": "stream",
     "text": [
      "Enter the number of seconds  to be converted: 10000\n",
      "0 day 2 hour 46 minute 40 second\n"
     ]
    }
   ],
   "source": [
    "sec = int(input(\"Enter the number of seconds  to be converted: \"))\n",
    "\n",
    "day = sec//(24*3600) \n",
    "sec = sec%(3600 * 24)\n",
    "hour = sec//3600\n",
    "sec = sec%3600\n",
    "m = sec//60\n",
    "sec = sec%60\n",
    "\n",
    "\n",
    "print(day,\"day\",hour,\"hour\",m,\"minute\",sec,\"second\")\n"
   ]
  },
  {
   "cell_type": "code",
   "execution_count": 51,
   "metadata": {},
   "outputs": [
    {
     "name": "stdout",
     "output_type": "stream",
     "text": [
      "2 -2\n"
     ]
    }
   ],
   "source": [
    "x = 2\n",
    "x*= 3\n",
    "x = x%4\n",
    "y = -x\n",
    "print(x,y)"
   ]
  },
  {
   "cell_type": "code",
   "execution_count": 52,
   "metadata": {},
   "outputs": [
    {
     "name": "stdout",
     "output_type": "stream",
     "text": [
      "None\n"
     ]
    }
   ],
   "source": [
    "def funct():\n",
    "    pass\n",
    "\n",
    "print(funct())"
   ]
  },
  {
   "cell_type": "code",
   "execution_count": 53,
   "metadata": {
    "scrolled": true
   },
   "outputs": [
    {
     "name": "stdout",
     "output_type": "stream",
     "text": [
      "Enter the real part: 10\n",
      "Enter the imaginary part: 20\n",
      "re = 10 im = 20\n"
     ]
    }
   ],
   "source": [
    "re = int(input(\"Enter the real part: \"))\n",
    "im = int(input(\"Enter the imaginary part: \"))\n",
    "\n",
    "print(\"re = {} im = {}\".format(re,im))"
   ]
  },
  {
   "cell_type": "code",
   "execution_count": 54,
   "metadata": {},
   "outputs": [
    {
     "name": "stdout",
     "output_type": "stream",
     "text": [
      "Enter the real part: 10\n",
      "Enter the imaginary part: 20\n",
      "(10, 20)\n"
     ]
    }
   ],
   "source": [
    "def input_complex():\n",
    "    re = int(input(\"Enter the real part: \"))\n",
    "    im = int(input(\"Enter the imaginary part: \"))\n",
    "    return re,im\n",
    "    \n",
    "s = input_complex()\n",
    "print(s)"
   ]
  },
  {
   "cell_type": "code",
   "execution_count": 60,
   "metadata": {},
   "outputs": [
    {
     "name": "stdout",
     "output_type": "stream",
     "text": [
      "Division result:  (2, -1)\n"
     ]
    }
   ],
   "source": [
    "def div(re1,im1,re2,im2):\n",
    "    return re1//re2 , im1//im2\n",
    "    \n",
    "d = div(10,20,5,-40)\n",
    "print(\"Division result: \",d)"
   ]
  }
 ],
 "metadata": {
  "kernelspec": {
   "display_name": "Python 3",
   "language": "python",
   "name": "python3"
  },
  "language_info": {
   "codemirror_mode": {
    "name": "ipython",
    "version": 3
   },
   "file_extension": ".py",
   "mimetype": "text/x-python",
   "name": "python",
   "nbconvert_exporter": "python",
   "pygments_lexer": "ipython3",
   "version": "3.7.3"
  }
 },
 "nbformat": 4,
 "nbformat_minor": 2
}
