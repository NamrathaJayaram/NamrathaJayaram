{
 "cells": [
  {
   "cell_type": "code",
   "execution_count": 1,
   "metadata": {
    "scrolled": false
   },
   "outputs": [
    {
     "name": "stdout",
     "output_type": "stream",
     "text": [
      "Enter number: 10\n",
      "1\n",
      "2\n",
      "3\n",
      "4\n",
      "5\n",
      "6\n",
      "7\n",
      "8\n",
      "9\n",
      "10\n"
     ]
    }
   ],
   "source": [
    "n = int(input(\"Enter number: \"))\n",
    "for i in range(1,n+1):\n",
    "    print(i)\n",
    "    "
   ]
  },
  {
   "cell_type": "code",
   "execution_count": 3,
   "metadata": {},
   "outputs": [
    {
     "name": "stdout",
     "output_type": "stream",
     "text": [
      "Enter number: 10\n",
      "The sum of natural numbers is :  55\n"
     ]
    }
   ],
   "source": [
    "n = int(input(\"Enter number: \"))\n",
    "tot = 0\n",
    "for i in range(1,n+1):\n",
    "    tot+=i\n",
    "\n",
    "print(\"The sum of natural numbers is : \",tot)\n",
    "   "
   ]
  },
  {
   "cell_type": "code",
   "execution_count": 5,
   "metadata": {
    "scrolled": true
   },
   "outputs": [
    {
     "name": "stdout",
     "output_type": "stream",
     "text": [
      "Enter number: 10\n",
      "The sum of natural numbers is :  55\n"
     ]
    }
   ],
   "source": [
    "n = int(input(\"Enter number: \"))\n",
    "tot = 0\n",
    "for i in range(n,0,-1):\n",
    "    tot+=i\n",
    "\n",
    "print(\"The sum of natural numbers is : \",tot)\n",
    "   "
   ]
  },
  {
   "cell_type": "code",
   "execution_count": 7,
   "metadata": {},
   "outputs": [
    {
     "name": "stdout",
     "output_type": "stream",
     "text": [
      "Enter the number: 6\n",
      "The factorial of the number is :  720\n"
     ]
    }
   ],
   "source": [
    "n = int(input(\"Enter the number: \"))\n",
    "fact = 1\n",
    "while(n>1):\n",
    "    fact = fact * n\n",
    "    n = n-1\n",
    "\n",
    "print(\"The factorial of the number is : \",fact)"
   ]
  },
  {
   "cell_type": "code",
   "execution_count": 8,
   "metadata": {
    "scrolled": true
   },
   "outputs": [
    {
     "name": "stdout",
     "output_type": "stream",
     "text": [
      "Enter the number: 10\n",
      "1\n",
      "2\n",
      "3\n",
      "5\n",
      "8\n",
      "13\n",
      "21\n",
      "34\n",
      "55\n",
      "89\n"
     ]
    }
   ],
   "source": [
    "n = int(input(\"Enter the number: \"))\n",
    "f_no = 0\n",
    "s_no = 1\n",
    "for i in range(0,n):\n",
    "    n_no = f_no + s_no\n",
    "    f_no = s_no\n",
    "    s_no = n_no\n",
    "    print(n_no)"
   ]
  },
  {
   "cell_type": "code",
   "execution_count": 21,
   "metadata": {
    "scrolled": true
   },
   "outputs": [
    {
     "name": "stdout",
     "output_type": "stream",
     "text": [
      "Enter number: 12\n",
      "['1', '2']\n"
     ]
    }
   ],
   "source": [
    "n = input(\"Enter number: \")\n",
    "s = list(n)\n",
    "print(s)"
   ]
  },
  {
   "cell_type": "code",
   "execution_count": 28,
   "metadata": {},
   "outputs": [
    {
     "name": "stdout",
     "output_type": "stream",
     "text": [
      "Enter a number:987\n",
      "The digit is: 7\n",
      "The digit is: 8\n",
      "The digit is: 9\n"
     ]
    }
   ],
   "source": [
    "n=int(input(\"Enter a number:\"))\n",
    "while(n>0):\n",
    "    dig=n%10\n",
    "    n=n//10\n",
    "    print(\"The digit is:\",dig)"
   ]
  },
  {
   "cell_type": "code",
   "execution_count": 22,
   "metadata": {},
   "outputs": [
    {
     "name": "stdout",
     "output_type": "stream",
     "text": [
      "Enter a number:12\n",
      "The total sum of digits is: 3\n"
     ]
    }
   ],
   "source": [
    "n=int(input(\"Enter a number:\"))\n",
    "tot=0\n",
    "while(n>0):\n",
    "    dig=n%10\n",
    "    tot=tot+dig\n",
    "    n=n//10\n",
    "print(\"The total sum of digits is:\",tot)"
   ]
  },
  {
   "cell_type": "code",
   "execution_count": 34,
   "metadata": {},
   "outputs": [
    {
     "name": "stdout",
     "output_type": "stream",
     "text": [
      "input a number 3\n",
      "sum of factorial of the number 9\n"
     ]
    }
   ],
   "source": [
    "B=0\n",
    "A=1\n",
    "m=int(input(\"input a number \"))\n",
    "for k in range (1,m+1):\n",
    "    A =1\n",
    "    for i in range (1,k+1):\n",
    "        A=i*A\n",
    "    B=B+A\n",
    "print(\"sum of factorial of the number\",B)"
   ]
  },
  {
   "cell_type": "code",
   "execution_count": 45,
   "metadata": {},
   "outputs": [
    {
     "name": "stdout",
     "output_type": "stream",
     "text": [
      "Enter base value: 2\n",
      "Enter exponent value: 4\n",
      "The value is:  16\n"
     ]
    }
   ],
   "source": [
    "base = int(input(\"Enter base value: \"))\n",
    "exponent = int(input(\"Enter exponent value: \"))\n",
    "i = base\n",
    "while(exponent>1):\n",
    "    base = base * i\n",
    "    exponent = exponent - 1\n",
    "\n",
    "print(\"The value is: \",base)"
   ]
  },
  {
   "cell_type": "code",
   "execution_count": 46,
   "metadata": {
    "scrolled": true
   },
   "outputs": [
    {
     "name": "stdout",
     "output_type": "stream",
     "text": [
      "*\n",
      "**\n",
      "***\n",
      "****\n",
      "*****\n"
     ]
    }
   ],
   "source": [
    "def pypart(n): \n",
    "    myList = [] \n",
    "    for i in range(1,n+1): \n",
    "        myList.append(\"*\"*i) \n",
    "    print(\"\\n\".join(myList)) \n",
    " \n",
    "n = 5\n",
    "pypart(5)"
   ]
  },
  {
   "cell_type": "code",
   "execution_count": 50,
   "metadata": {},
   "outputs": [
    {
     "name": "stdout",
     "output_type": "stream",
     "text": [
      "*****\n",
      "****\n",
      "***\n",
      "**\n",
      "*\n"
     ]
    }
   ],
   "source": [
    "def pypart(n): \n",
    "    myList = [] \n",
    "    for i in range(n,0,-1): \n",
    "        myList.append(\"*\"*i) \n",
    "    print(\"\\n\".join(myList)) \n",
    " \n",
    "n = 5\n",
    "pypart(5)"
   ]
  },
  {
   "cell_type": "code",
   "execution_count": 67,
   "metadata": {},
   "outputs": [
    {
     "name": "stdout",
     "output_type": "stream",
     "text": [
      "        * \r\n",
      "      * * \r\n",
      "    * * * \r\n",
      "  * * * * \r\n",
      "* * * * * \r\n"
     ]
    }
   ],
   "source": [
    "def pypart2(n): \n",
    "      \n",
    "    k = 2*n - 2\n",
    "  \n",
    "    for i in range(0, n): \n",
    "      \n",
    "        for j in range(0, k): \n",
    "            print(end=\" \") \n",
    "       \n",
    "        k = k - 2\n",
    "      \n",
    "        for j in range(0, i+1): \n",
    "          \n",
    "            print(\"* \", end=\"\") \n",
    "       \n",
    "        print(\"\\r\")\n",
    "  \n",
    "n = 5\n",
    "pypart2(n) "
   ]
  },
  {
   "cell_type": "code",
   "execution_count": 69,
   "metadata": {},
   "outputs": [
    {
     "name": "stdout",
     "output_type": "stream",
     "text": [
      "      * \r\n",
      "     * * \r\n",
      "    * * * \r\n",
      "   * * * * \r\n"
     ]
    }
   ],
   "source": [
    "def pypart2(n): \n",
    "      \n",
    "    k = 2*n - 2\n",
    "  \n",
    "    for i in range(0, n): \n",
    "      \n",
    "        for j in range(0, k): \n",
    "            print(end=\" \") \n",
    "       \n",
    "        k = k - 1\n",
    "      \n",
    "        for j in range(0, i+1): \n",
    "          \n",
    "            print(\"* \", end=\"\") \n",
    "       \n",
    "        print(\"\\r\")\n",
    "  \n",
    "n = 4\n",
    "pypart2(n) "
   ]
  },
  {
   "cell_type": "code",
   "execution_count": 151,
   "metadata": {
    "scrolled": true
   },
   "outputs": [
    {
     "name": "stdout",
     "output_type": "stream",
     "text": [
      "1 \r\n",
      "2 2 \r\n",
      "3 3 3 \r\n",
      "4 4 4 4 \r\n",
      "5 5 5 5 5 \r\n"
     ]
    }
   ],
   "source": [
    "for num in range(1,6):\n",
    "    for i in range(num):\n",
    "        print (num, end=\" \") \n",
    "    \n",
    "    print(\"\\r\")\n",
    "\n"
   ]
  },
  {
   "cell_type": "code",
   "execution_count": 149,
   "metadata": {},
   "outputs": [
    {
     "name": "stdout",
     "output_type": "stream",
     "text": [
      "1 \n",
      "1 2 \n",
      "1 2 3 \n",
      "1 2 3 4 \n",
      "1 2 3 4 5 \n"
     ]
    }
   ],
   "source": [
    "lastNumber = 6\n",
    "for row in range(1, lastNumber):\n",
    "    for column in range(1, row+1):\n",
    "        print(column, end=' ')\n",
    "    print(\"\")"
   ]
  },
  {
   "cell_type": "code",
   "execution_count": 152,
   "metadata": {},
   "outputs": [
    {
     "name": "stdout",
     "output_type": "stream",
     "text": [
      "5 \r\n",
      "4 4 \r\n",
      "3 3 3 \r\n",
      "2 2 2 2 \r\n",
      "1 1 1 1 1 \r\n"
     ]
    }
   ],
   "source": [
    "for num in range(1,6):\n",
    "    for i in range(1,num+1):\n",
    "        print (6-num, end=\" \") \n",
    "    \n",
    "    print(\"\\r\")"
   ]
  },
  {
   "cell_type": "code",
   "execution_count": 107,
   "metadata": {},
   "outputs": [
    {
     "name": "stdout",
     "output_type": "stream",
     "text": [
      "        1\r\n",
      "       12\r\n",
      "      123\r\n",
      "     1234\r\n",
      "    12345\r\n"
     ]
    }
   ],
   "source": [
    "def pypart2(n): \n",
    "      \n",
    "    k = 2*n - 2\n",
    "  \n",
    "    for i in range(0, n): \n",
    "      \n",
    "        for j in range(0, k): \n",
    "            print(end=\" \") \n",
    "       \n",
    "        k = k - 1\n",
    "      \n",
    "        for j in range(0, i+1): \n",
    "          \n",
    "            print(j+1, end=\"\") \n",
    "       \n",
    "        print(\"\\r\")\n",
    "  \n",
    "n = 5\n",
    "pypart2(n) "
   ]
  },
  {
   "cell_type": "code",
   "execution_count": 113,
   "metadata": {
    "scrolled": true
   },
   "outputs": [
    {
     "name": "stdout",
     "output_type": "stream",
     "text": [
      "A\r\n",
      "AB\r\n",
      "ABC\r\n",
      "ABCD\r\n",
      "ABCDE\r\n"
     ]
    }
   ],
   "source": [
    "for i in range(65,70):\n",
    "    for j in range(65,i+1):\n",
    "        print(chr(j), end = '')\n",
    "    print(\"\\r\")\n",
    "        "
   ]
  },
  {
   "cell_type": "code",
   "execution_count": 130,
   "metadata": {},
   "outputs": [
    {
     "name": "stdout",
     "output_type": "stream",
     "text": [
      "A \r\n",
      "B C \r\n",
      "D E F \r\n",
      "G H I J \r\n",
      "K L M N O \r\n"
     ]
    }
   ],
   "source": [
    "def  contalpha(n): \n",
    "    num = 65\n",
    "    for i in range(0, n): \n",
    "        for j in range(0, i+1): \n",
    "            ch = chr(num) \n",
    "            print(ch, end=\" \")\n",
    "            num = num +1\n",
    "        print(\"\\r\") \n",
    "  \n",
    "n = 5\n",
    "contalpha(n) \n",
    "        "
   ]
  },
  {
   "cell_type": "code",
   "execution_count": 131,
   "metadata": {},
   "outputs": [
    {
     "name": "stdout",
     "output_type": "stream",
     "text": [
      "A\n",
      "BB\n",
      "CCC\n",
      "DDDD\n",
      "EEEEE\n"
     ]
    }
   ],
   "source": [
    "def pypart(n): \n",
    "    myList = [] \n",
    "    num = 65\n",
    "    for i in range(1,n+1): \n",
    "        ch = chr(num)\n",
    "        myList.append(ch*i)\n",
    "        num = num + 1\n",
    "    print(\"\\n\".join(myList)) \n",
    "    \n",
    " \n",
    "n = 5\n",
    "pypart(5)"
   ]
  },
  {
   "cell_type": "code",
   "execution_count": 147,
   "metadata": {},
   "outputs": [
    {
     "name": "stdout",
     "output_type": "stream",
     "text": [
      "        A \n",
      "       ABA \n",
      "      ABCBA \n",
      "     ABCDCBA \n",
      "    ABCDEDCBA \n"
     ]
    }
   ],
   "source": [
    "k = 5\n",
    "m = (2 * k) - 2\n",
    "for i in range(0, size):\n",
    "    for j in range(0, m):\n",
    "        print(end=\" \")\n",
    "    m = m - 1 \n",
    "    k=65\n",
    "    for j in range(0, i+1 ):        \n",
    "        print(chr(k), end='')\n",
    "        k+=1\n",
    "    k-=1\n",
    "    for l in range(0,i):\n",
    "        k-=1\n",
    "        print(chr(k), end='')\n",
    "    print(\" \")\n",
    "    "
   ]
  },
  {
   "cell_type": "code",
   "execution_count": 143,
   "metadata": {},
   "outputs": [
    {
     "name": "stdout",
     "output_type": "stream",
     "text": [
      "        A \n",
      "       ABA \n",
      "      ABCBA \n",
      "     ABCDCBA \n",
      "    ABCDEDCBA \n"
     ]
    }
   ],
   "source": [
    "\n",
    "    "
   ]
  }
 ],
 "metadata": {
  "kernelspec": {
   "display_name": "Python 3",
   "language": "python",
   "name": "python3"
  },
  "language_info": {
   "codemirror_mode": {
    "name": "ipython",
    "version": 3
   },
   "file_extension": ".py",
   "mimetype": "text/x-python",
   "name": "python",
   "nbconvert_exporter": "python",
   "pygments_lexer": "ipython3",
   "version": "3.7.3"
  }
 },
 "nbformat": 4,
 "nbformat_minor": 2
}
