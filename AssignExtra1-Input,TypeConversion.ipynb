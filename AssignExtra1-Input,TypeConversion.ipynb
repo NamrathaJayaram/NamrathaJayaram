{
 "cells": [
  {
   "cell_type": "code",
   "execution_count": 3,
   "metadata": {
    "scrolled": true
   },
   "outputs": [
    {
     "name": "stdout",
     "output_type": "stream",
     "text": [
      "Enter the temperatue in Fahrenheit: 68\n",
      "The temperatue in celsius is: 20.0\n"
     ]
    }
   ],
   "source": [
    "temp = int(input('Enter the temperatue in Fahrenheit: '))\n",
    "newtempC = (temp-32)/1.8\n",
    "print('The temperatue in celsius is:',newtempC)"
   ]
  },
  {
   "cell_type": "code",
   "execution_count": 5,
   "metadata": {},
   "outputs": [
    {
     "name": "stdout",
     "output_type": "stream",
     "text": [
      "Enter the number: 5\n",
      "Square of the number is:  25\n",
      "Cube of the number is:  125\n"
     ]
    }
   ],
   "source": [
    "number = int(input('Enter the number: '))\n",
    "sqNum = pow(number,2)\n",
    "cubeNum = pow(number,3)\n",
    "print('Square of the number is: ',sqNum)\n",
    "print('Cube of the number is: ',cubeNum)"
   ]
  },
  {
   "cell_type": "code",
   "execution_count": 7,
   "metadata": {},
   "outputs": [
    {
     "name": "stdout",
     "output_type": "stream",
     "text": [
      "Enter the value of n: 3\n",
      "Enter the value of m: 3\n",
      "The value is:  18\n"
     ]
    }
   ],
   "source": [
    "n = int(input('Enter the value of n: '))\n",
    "m = int(input('Enter the value of m: '))\n",
    "value = (pow(n,2))+(pow(m,2))\n",
    "print('The value is: ',value)"
   ]
  },
  {
   "cell_type": "code",
   "execution_count": 10,
   "metadata": {},
   "outputs": [
    {
     "name": "stdout",
     "output_type": "stream",
     "text": [
      "Enter the value of m: 3\n",
      "Enter the value of n: 3\n",
      "The result is : 27 27\n"
     ]
    }
   ],
   "source": [
    "m = int(input('Enter the value of m: '))\n",
    "n = int(input('Enter the value of n: '))\n",
    "x = pow(m,n)\n",
    "y = m**n\n",
    "print('The result is :',x,y)"
   ]
  },
  {
   "cell_type": "code",
   "execution_count": 14,
   "metadata": {
    "scrolled": true
   },
   "outputs": [
    {
     "name": "stdout",
     "output_type": "stream",
     "text": [
      "Enter the principal amount: 1011.12\n",
      "Enter the rate of interest: 3.8\n",
      "Enter the time period in years: 2.5\n",
      "The final investment value is:  10616.76\n"
     ]
    }
   ],
   "source": [
    "p = float(input('Enter the principal amount: '))\n",
    "r = float(input('Enter the rate of interest: '))\n",
    "t = float(input('Enter the time period in years: '))\n",
    "a = p * (1 + (r*t))\n",
    "print('The final investment value is: ',a)"
   ]
  },
  {
   "cell_type": "code",
   "execution_count": 16,
   "metadata": {},
   "outputs": [
    {
     "name": "stdout",
     "output_type": "stream",
     "text": [
      "Enter the principal amount: 100\n",
      "Enter the rate of interest: 20\n",
      "Enter the time period in years: 3\n",
      "The compound interest is:  172.79999999999998\n",
      "The amount is:  272.79999999999995\n"
     ]
    }
   ],
   "source": [
    "principal = float(input('Enter the principal amount: '))\n",
    "rate = float(input('Enter the rate of interest: '))\n",
    "time = float(input('Enter the time period in years: '))\n",
    "compoundInterest = principal * pow((1 + (rate/100)),time)\n",
    "amount = principal + compoundInterest\n",
    "print('The compound interest is: ',compoundInterest)\n",
    "print('The amount is: ',amount)"
   ]
  },
  {
   "cell_type": "code",
   "execution_count": 18,
   "metadata": {},
   "outputs": [
    {
     "name": "stdout",
     "output_type": "stream",
     "text": [
      "Enter the value of n: 10\n",
      "The sum of first n natural numbers is:  55.0\n"
     ]
    }
   ],
   "source": [
    "n = int(input('Enter the value of n: '))\n",
    "sNN = n * ((n + 1)/2)\n",
    "print('The sum of first n natural numbers is: ',sNN)"
   ]
  },
  {
   "cell_type": "code",
   "execution_count": 19,
   "metadata": {
    "scrolled": false
   },
   "outputs": [
    {
     "name": "stdout",
     "output_type": "stream",
     "text": [
      "Enter the value of num1: 10\n",
      "Enter the value of num2: 20\n",
      "Value of num1 and num2 before swapping:  10 20\n",
      "Value of num1 and num2 after swapping:  20 10\n"
     ]
    }
   ],
   "source": [
    "num1 = int(input('Enter the value of num1: '))\n",
    "num2 = int(input('Enter the value of num2: '))\n",
    "print('Value of num1 and num2 before swapping: ',num1,num2)\n",
    "t = num1\n",
    "num1 = num2\n",
    "num2 = t\n",
    "print('Value of num1 and num2 after swapping: ',num1,num2)\n"
   ]
  },
  {
   "cell_type": "code",
   "execution_count": 1,
   "metadata": {},
   "outputs": [
    {
     "name": "stdout",
     "output_type": "stream",
     "text": [
      "Enter the value of num3: 10\n",
      "Enter the value of num4: 20\n",
      "Value of num3 and num4 before swapping:  10 20\n",
      "Value of num3 and num4 before swapping:  20 10\n"
     ]
    }
   ],
   "source": [
    "num3 = int(input('Enter the value of num3: '))\n",
    "num4 = int(input('Enter the value of num4: '))\n",
    "print('Value of num3 and num4 before swapping: ',num3,num4)\n",
    "num3,num4 = num4,num3\n",
    "print('Value of num3 and num4 before swapping: ',num3,num4)"
   ]
  },
  {
   "cell_type": "code",
   "execution_count": 5,
   "metadata": {},
   "outputs": [
    {
     "data": {
      "text/plain": [
       "32"
      ]
     },
     "execution_count": 5,
     "metadata": {},
     "output_type": "execute_result"
    }
   ],
   "source": [
    "ord(' ')"
   ]
  },
  {
   "cell_type": "code",
   "execution_count": 10,
   "metadata": {
    "scrolled": true
   },
   "outputs": [
    {
     "name": "stdout",
     "output_type": "stream",
     "text": [
      "Enter the character to find its ASCII value: A\n",
      "The ASCII value of the character is:  65\n"
     ]
    }
   ],
   "source": [
    "character = input('Enter the character to find its ASCII value: ')\n",
    "print('The ASCII value of the character is: ',ord(character))"
   ]
  },
  {
   "cell_type": "code",
   "execution_count": 15,
   "metadata": {},
   "outputs": [
    {
     "name": "stdout",
     "output_type": "stream",
     "text": [
      "Enter the area of a circle: 100\n",
      "The radius of the circle is:  5.643326479831003\n",
      "The circumference of the circle is:  35.440090293338706\n"
     ]
    }
   ],
   "source": [
    "import math\n",
    "\n",
    "area = float(input('Enter the area of a circle: '))\n",
    "pi = 3.14\n",
    "t = area/pi\n",
    "radius = math.sqrt(t)\n",
    "circum = 2 * pi * radius\n",
    "print('The radius of the circle is: ',radius)\n",
    "print('The circumference of the circle is: ',circum)"
   ]
  },
  {
   "cell_type": "code",
   "execution_count": 1,
   "metadata": {},
   "outputs": [
    {
     "name": "stdout",
     "output_type": "stream",
     "text": [
      "Enter the marks of subj190\n",
      "Enter the marks of subj290\n",
      "Enter the marks of subj390\n",
      "Enter the marks of subj490\n",
      "Enter the marks of subj590\n",
      "The percentage obtained is %:  90.0\n"
     ]
    }
   ],
   "source": [
    "subj1 = int(input('Enter the marks of subj1: '))\n",
    "subj2 = int(input('Enter the marks of subj2: '))\n",
    "subj3 = int(input('Enter the marks of subj3: '))\n",
    "subj4 = int(input('Enter the marks of subj4: '))\n",
    "subj5 = int(input('Enter the marks of subj5: '))\n",
    "s = subj1+subj2+subj3+subj4+subj5\n",
    "percent = (s/500)* 100\n",
    "print('The percentage obtained in %: ',percent)\n"
   ]
  },
  {
   "cell_type": "code",
   "execution_count": null,
   "metadata": {},
   "outputs": [],
   "source": []
  }
 ],
 "metadata": {
  "kernelspec": {
   "display_name": "Python 3",
   "language": "python",
   "name": "python3"
  },
  "language_info": {
   "codemirror_mode": {
    "name": "ipython",
    "version": 3
   },
   "file_extension": ".py",
   "mimetype": "text/x-python",
   "name": "python",
   "nbconvert_exporter": "python",
   "pygments_lexer": "ipython3",
   "version": "3.7.3"
  }
 },
 "nbformat": 4,
 "nbformat_minor": 2
}
