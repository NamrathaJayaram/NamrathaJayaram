{
 "cells": [
  {
   "cell_type": "code",
   "execution_count": 5,
   "metadata": {},
   "outputs": [
    {
     "name": "stdout",
     "output_type": "stream",
     "text": [
      "d\n",
      "dnrtj  hP\n",
      "Python is Object Oriente\n",
      "\n",
      "on is \n"
     ]
    }
   ],
   "source": [
    "s='Python is Object Oriented'\n",
    "print(s[-1])\n",
    "print(s[::-3])\n",
    "print(s[:-1])\n",
    "print(s[1:1])\n",
    "print(s[4:10])\n"
   ]
  },
  {
   "cell_type": "code",
   "execution_count": 8,
   "metadata": {},
   "outputs": [
    {
     "ename": "IndexError",
     "evalue": "string index out of range",
     "output_type": "error",
     "traceback": [
      "\u001b[1;31m---------------------------------------------------------------------------\u001b[0m",
      "\u001b[1;31mIndexError\u001b[0m                                Traceback (most recent call last)",
      "\u001b[1;32m<ipython-input-8-a5004c47ef0a>\u001b[0m in \u001b[0;36m<module>\u001b[1;34m\u001b[0m\n\u001b[0;32m      1\u001b[0m \u001b[0mssst\u001b[0m \u001b[1;33m=\u001b[0m \u001b[1;34m''\u001b[0m\u001b[1;33m\u001b[0m\u001b[1;33m\u001b[0m\u001b[0m\n\u001b[1;32m----> 2\u001b[1;33m \u001b[0mprint\u001b[0m\u001b[1;33m(\u001b[0m\u001b[0mssst\u001b[0m\u001b[1;33m[\u001b[0m\u001b[1;36m1\u001b[0m\u001b[1;33m]\u001b[0m\u001b[1;33m)\u001b[0m\u001b[1;33m\u001b[0m\u001b[1;33m\u001b[0m\u001b[0m\n\u001b[0m",
      "\u001b[1;31mIndexError\u001b[0m: string index out of range"
     ]
    }
   ],
   "source": [
    "ssst = ''\n",
    "print(ssst[1])"
   ]
  },
  {
   "cell_type": "code",
   "execution_count": 20,
   "metadata": {},
   "outputs": [
    {
     "name": "stdout",
     "output_type": "stream",
     "text": [
      " \n"
     ]
    }
   ],
   "source": [
    "S ='Gaurav'\n",
    "print(s[1])"
   ]
  },
  {
   "cell_type": "code",
   "execution_count": 15,
   "metadata": {
    "scrolled": true
   },
   "outputs": [
    {
     "name": "stdout",
     "output_type": "stream",
     "text": [
      "6\n",
      "abc\n",
      "3\n"
     ]
    }
   ],
   "source": [
    "s='a b cd'\n",
    "print(len(s))\n",
    "print(s[::2])\n",
    "print(len(s[::2]))"
   ]
  },
  {
   "cell_type": "code",
   "execution_count": 21,
   "metadata": {},
   "outputs": [
    {
     "name": "stdout",
     "output_type": "stream",
     "text": [
      "['a#b#c#d#']\n",
      "['a', 'b', 'c', 'd', '']\n",
      "a$b$c$d$\n"
     ]
    }
   ],
   "source": [
    "s='a#b#c#d#'\n",
    "print(s.split())\n",
    "print(s.split('#'))\n",
    "l=s.split('#')\n",
    "s='$'.join(l)\n",
    "print(s)"
   ]
  },
  {
   "cell_type": "code",
   "execution_count": 22,
   "metadata": {},
   "outputs": [
    {
     "name": "stdout",
     "output_type": "stream",
     "text": [
      "av\n"
     ]
    }
   ],
   "source": [
    "S='Gaurav'\n",
    "S=S[::-2][::-2]\n",
    "print(S)"
   ]
  },
  {
   "cell_type": "code",
   "execution_count": 23,
   "metadata": {},
   "outputs": [
    {
     "name": "stdout",
     "output_type": "stream",
     "text": [
      "False\n"
     ]
    }
   ],
   "source": [
    "print(1>2)"
   ]
  },
  {
   "cell_type": "code",
   "execution_count": 26,
   "metadata": {},
   "outputs": [
    {
     "name": "stdout",
     "output_type": "stream",
     "text": [
      "0,1,2\n"
     ]
    }
   ],
   "source": [
    "print(4%2, 5%2, 2%5, sep = ',')"
   ]
  },
  {
   "cell_type": "code",
   "execution_count": 32,
   "metadata": {},
   "outputs": [
    {
     "name": "stdout",
     "output_type": "stream",
     "text": [
      "abcba\n",
      "0,0,0,"
     ]
    }
   ],
   "source": [
    "s='abcba'\n",
    "s.upper()\n",
    "print(s)\n",
    "print(s.count('A'), end = ',')\n",
    "print(s.count('A', 2,4) , end = ',')\n",
    "print(s.count('a', 2,4) , end = ',')"
   ]
  },
  {
   "cell_type": "code",
   "execution_count": 36,
   "metadata": {},
   "outputs": [
    {
     "name": "stdout",
     "output_type": "stream",
     "text": [
      "Enter the string:  hello\n",
      "hello\n"
     ]
    }
   ],
   "source": [
    "str1 = input('Enter the string: ')\n",
    "newString = str1.strip()\n",
    "print(newString)"
   ]
  },
  {
   "cell_type": "code",
   "execution_count": 39,
   "metadata": {
    "scrolled": true
   },
   "outputs": [
    {
     "name": "stdout",
     "output_type": "stream",
     "text": [
      "Enter the string:  hello   world\n",
      "helloworld\n"
     ]
    }
   ],
   "source": [
    "str12 = input('Enter the string: ')\n",
    "newString12 = str12.replace(\" \",\"\")\n",
    "print(newString12)"
   ]
  },
  {
   "cell_type": "code",
   "execution_count": 41,
   "metadata": {},
   "outputs": [
    {
     "data": {
      "text/plain": [
       "['__add__',\n",
       " '__class__',\n",
       " '__contains__',\n",
       " '__delattr__',\n",
       " '__dir__',\n",
       " '__doc__',\n",
       " '__eq__',\n",
       " '__format__',\n",
       " '__ge__',\n",
       " '__getattribute__',\n",
       " '__getitem__',\n",
       " '__getnewargs__',\n",
       " '__gt__',\n",
       " '__hash__',\n",
       " '__init__',\n",
       " '__init_subclass__',\n",
       " '__iter__',\n",
       " '__le__',\n",
       " '__len__',\n",
       " '__lt__',\n",
       " '__mod__',\n",
       " '__mul__',\n",
       " '__ne__',\n",
       " '__new__',\n",
       " '__reduce__',\n",
       " '__reduce_ex__',\n",
       " '__repr__',\n",
       " '__rmod__',\n",
       " '__rmul__',\n",
       " '__setattr__',\n",
       " '__sizeof__',\n",
       " '__str__',\n",
       " '__subclasshook__',\n",
       " 'capitalize',\n",
       " 'casefold',\n",
       " 'center',\n",
       " 'count',\n",
       " 'encode',\n",
       " 'endswith',\n",
       " 'expandtabs',\n",
       " 'find',\n",
       " 'format',\n",
       " 'format_map',\n",
       " 'index',\n",
       " 'isalnum',\n",
       " 'isalpha',\n",
       " 'isascii',\n",
       " 'isdecimal',\n",
       " 'isdigit',\n",
       " 'isidentifier',\n",
       " 'islower',\n",
       " 'isnumeric',\n",
       " 'isprintable',\n",
       " 'isspace',\n",
       " 'istitle',\n",
       " 'isupper',\n",
       " 'join',\n",
       " 'ljust',\n",
       " 'lower',\n",
       " 'lstrip',\n",
       " 'maketrans',\n",
       " 'partition',\n",
       " 'replace',\n",
       " 'rfind',\n",
       " 'rindex',\n",
       " 'rjust',\n",
       " 'rpartition',\n",
       " 'rsplit',\n",
       " 'rstrip',\n",
       " 'split',\n",
       " 'splitlines',\n",
       " 'startswith',\n",
       " 'strip',\n",
       " 'swapcase',\n",
       " 'title',\n",
       " 'translate',\n",
       " 'upper',\n",
       " 'zfill']"
      ]
     },
     "execution_count": 41,
     "metadata": {},
     "output_type": "execute_result"
    }
   ],
   "source": [
    "dir(str)"
   ]
  },
  {
   "cell_type": "code",
   "execution_count": 45,
   "metadata": {},
   "outputs": [
    {
     "data": {
      "text/plain": [
       "True"
      ]
     },
     "execution_count": 45,
     "metadata": {},
     "output_type": "execute_result"
    }
   ],
   "source": [
    "'rstrip' in dir(str)"
   ]
  },
  {
   "cell_type": "code",
   "execution_count": null,
   "metadata": {},
   "outputs": [],
   "source": [
    "#\"Cannot use find function for above\""
   ]
  },
  {
   "cell_type": "code",
   "execution_count": 53,
   "metadata": {},
   "outputs": [
    {
     "name": "stdout",
     "output_type": "stream",
     "text": [
      "*****\n",
      "  *  \n",
      "  *  \n",
      "  *  \n",
      "  *  \n"
     ]
    }
   ],
   "source": [
    "s1 = '*****'\n",
    "s2 = '  *  '\n",
    "print(s1,s2,s2,s2,s2,sep ='\\n')"
   ]
  },
  {
   "cell_type": "code",
   "execution_count": 55,
   "metadata": {
    "scrolled": true
   },
   "outputs": [
    {
     "name": "stdout",
     "output_type": "stream",
     "text": [
      "*     *\n",
      "* * * *\n",
      "*  *  *\n",
      "*     *\n"
     ]
    }
   ],
   "source": [
    "s3 = '*     *'\n",
    "s4 = '* * * *'\n",
    "s5 = '*  *  *'\n",
    "s6 = '*     *'\n",
    "print(s3,s4,s5,s6,sep = '\\n')\n",
    " "
   ]
  },
  {
   "cell_type": "code",
   "execution_count": 73,
   "metadata": {},
   "outputs": [
    {
     "name": "stdout",
     "output_type": "stream",
     "text": [
      "\n",
      "        *     *\n",
      "        * * * *\n",
      "        *  *  *\n",
      "        *     *\n"
     ]
    }
   ],
   "source": [
    "s14= \"\"\"\n",
    "        *     *\n",
    "        * * * *\n",
    "        *  *  *\n",
    "        *     *\"\"\"\n",
    "print(s14)"
   ]
  },
  {
   "cell_type": "code",
   "execution_count": 56,
   "metadata": {},
   "outputs": [
    {
     "name": "stdout",
     "output_type": "stream",
     "text": [
      "__________________\n",
      " |                |\n",
      " o                |\n",
      "/|\\               |\n",
      "/ \\               |\n",
      "                  |\n",
      "__________________ \n"
     ]
    }
   ],
   "source": [
    "s7 = '__________________'\n",
    "s8 = ' |                |'\n",
    "s9 = ' o                |'\n",
    "s10= '/|\\               |'\n",
    "s11= '/ \\               |'\n",
    "s12= '                  |'\n",
    "s13= '__________________ '\n",
    "print(s7,s8,s9,s10,s11,s12,s13,sep = '\\n')"
   ]
  },
  {
   "cell_type": "code",
   "execution_count": 57,
   "metadata": {
    "scrolled": true
   },
   "outputs": [
    {
     "name": "stdout",
     "output_type": "stream",
     "text": [
      "Enter a strng with white spacesThis is a String\n",
      "This\n",
      "is\n",
      "a\n",
      "String\n"
     ]
    }
   ],
   "source": [
    "spaceString = input('Enter a string with white spaces')\n",
    "replacedString = spaceString.replace(\" \",'\\n')\n",
    "print(replacedString)"
   ]
  },
  {
   "cell_type": "code",
   "execution_count": 66,
   "metadata": {},
   "outputs": [
    {
     "name": "stdout",
     "output_type": "stream",
     "text": [
      "Enter your first Name: namratha\n",
      "Enter your last Name: jayaram\n",
      "NAMRATHA\n",
      "JAYARAM\n",
      "16\n"
     ]
    }
   ],
   "source": [
    "firstName = input('Enter your first Name: ')\n",
    "lastName = input('Enter your last Name: ')\n",
    "fullName = firstName + \" \" + lastName\n",
    "fullName = fullName.upper()\n",
    "result = fullName.replace(\" \",'\\n')\n",
    "print(result,len(result),sep = '\\n')\n",
    "\n"
   ]
  },
  {
   "cell_type": "code",
   "execution_count": 68,
   "metadata": {
    "scrolled": true
   },
   "outputs": [
    {
     "name": "stdout",
     "output_type": "stream",
     "text": [
      "Enter your full Name: namratha jayaram\n",
      "NAMRATHA\n",
      "JAYARAM\n",
      "16\n"
     ]
    }
   ],
   "source": [
    "fullName = input('Enter your full Name: ')\n",
    "fullName = fullName.upper()\n",
    "result = fullName.replace(\" \",'\\n')\n",
    "print(result,len(result),sep = '\\n')"
   ]
  },
  {
   "cell_type": "code",
   "execution_count": 71,
   "metadata": {},
   "outputs": [
    {
     "name": "stdout",
     "output_type": "stream",
     "text": [
      "Enter the string value to be split: jayaram\n",
      "jay aram\n"
     ]
    }
   ],
   "source": [
    "string = input('Enter the string value to be split: ')\n",
    "firstpart, secondpart = string[:len(string)//2], string[len(string)//2:]\n",
    "print(firstpart,secondpart)"
   ]
  }
 ],
 "metadata": {
  "kernelspec": {
   "display_name": "Python 3",
   "language": "python",
   "name": "python3"
  },
  "language_info": {
   "codemirror_mode": {
    "name": "ipython",
    "version": 3
   },
   "file_extension": ".py",
   "mimetype": "text/x-python",
   "name": "python",
   "nbconvert_exporter": "python",
   "pygments_lexer": "ipython3",
   "version": "3.7.3"
  }
 },
 "nbformat": 4,
 "nbformat_minor": 2
}
