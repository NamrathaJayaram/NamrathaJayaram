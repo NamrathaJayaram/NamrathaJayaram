{
 "cells": [
  {
   "cell_type": "code",
   "execution_count": 12,
   "metadata": {
    "scrolled": true
   },
   "outputs": [
    {
     "name": "stdout",
     "output_type": "stream",
     "text": [
      "Enter the value: 3\n",
      "9\n",
      "0.3333333333333333\n",
      "-3\n"
     ]
    }
   ],
   "source": [
    "x = int(input(\"Enter the value: \"))\n",
    "double = lambda x: x**2\n",
    "print(double(x))\n",
    "inv = lambda x: 1/x\n",
    "print(inv(x))\n",
    "neg = lambda x: -x\n",
    "print(neg(x))"
   ]
  },
  {
   "cell_type": "code",
   "execution_count": 8,
   "metadata": {},
   "outputs": [
    {
     "data": {
      "text/plain": [
       "102"
      ]
     },
     "execution_count": 8,
     "metadata": {},
     "output_type": "execute_result"
    }
   ],
   "source": [
    "from functools import reduce\n",
    "f = lambda a,b: a if (a > b) else b\n",
    "reduce(f, [47,11,42,102,13])"
   ]
  },
  {
   "cell_type": "code",
   "execution_count": 69,
   "metadata": {},
   "outputs": [
    {
     "name": "stdout",
     "output_type": "stream",
     "text": [
      "[9, 0.3333333333333333, -3]\n"
     ]
    }
   ],
   "source": [
    "def map_multiple(functs, sequence):\n",
    "    res = []\n",
    "    for func in functs:\n",
    "        res.append(func(x))\n",
    "    return res\n",
    "\n",
    "family_of_functions = (lambda c: c**2, lambda c: 1/c, lambda c: -c)\n",
    "print(map_multiple(family_of_functions,[1,2,4]))"
   ]
  },
  {
   "cell_type": "code",
   "execution_count": 74,
   "metadata": {},
   "outputs": [
    {
     "ename": "TypeError",
     "evalue": "'int' object is not callable",
     "output_type": "error",
     "traceback": [
      "\u001b[1;31m---------------------------------------------------------------------------\u001b[0m",
      "\u001b[1;31mTypeError\u001b[0m                                 Traceback (most recent call last)",
      "\u001b[1;32m<ipython-input-74-4145588dea9a>\u001b[0m in \u001b[0;36m<module>\u001b[1;34m\u001b[0m\n\u001b[0;32m      7\u001b[0m \u001b[1;33m\u001b[0m\u001b[0m\n\u001b[0;32m      8\u001b[0m \u001b[1;33m\u001b[0m\u001b[0m\n\u001b[1;32m----> 9\u001b[1;33m \u001b[0mmap_funcs\u001b[0m\u001b[1;33m(\u001b[0m\u001b[1;36m1\u001b[0m\u001b[1;33m,\u001b[0m \u001b[1;33m[\u001b[0m\u001b[1;36m1\u001b[0m\u001b[1;33m,\u001b[0m \u001b[1;36m2\u001b[0m\u001b[1;33m,\u001b[0m \u001b[1;36m3\u001b[0m\u001b[1;33m,\u001b[0m \u001b[1;36m4\u001b[0m\u001b[1;33m]\u001b[0m\u001b[1;33m)\u001b[0m\u001b[1;33m\u001b[0m\u001b[1;33m\u001b[0m\u001b[0m\n\u001b[0m",
      "\u001b[1;32m<ipython-input-74-4145588dea9a>\u001b[0m in \u001b[0;36mmap_funcs\u001b[1;34m(obj, func_list)\u001b[0m\n\u001b[0;32m      1\u001b[0m \u001b[1;32mdef\u001b[0m \u001b[0mmap_funcs\u001b[0m\u001b[1;33m(\u001b[0m\u001b[0mobj\u001b[0m\u001b[1;33m,\u001b[0m \u001b[0mfunc_list\u001b[0m\u001b[1;33m)\u001b[0m\u001b[1;33m:\u001b[0m\u001b[1;33m\u001b[0m\u001b[1;33m\u001b[0m\u001b[0m\n\u001b[1;32m----> 2\u001b[1;33m     \u001b[1;32mreturn\u001b[0m \u001b[1;33m[\u001b[0m\u001b[0mfunc\u001b[0m\u001b[1;33m(\u001b[0m\u001b[0mobj\u001b[0m\u001b[1;33m)\u001b[0m \u001b[1;32mfor\u001b[0m \u001b[0mfunc\u001b[0m \u001b[1;32min\u001b[0m \u001b[0mfunc_list\u001b[0m\u001b[1;33m]\u001b[0m\u001b[1;33m\u001b[0m\u001b[1;33m\u001b[0m\u001b[0m\n\u001b[0m\u001b[0;32m      3\u001b[0m \u001b[1;33m\u001b[0m\u001b[0m\n\u001b[0;32m      4\u001b[0m     \u001b[1;31m# I was under the impression that the OP wanted to compose the functions,\u001b[0m\u001b[1;33m\u001b[0m\u001b[1;33m\u001b[0m\u001b[1;33m\u001b[0m\u001b[0m\n\u001b[0;32m      5\u001b[0m     \u001b[1;31m# i.e. f3(f2(f1(f0(obj))), for which the line below is applicable:\u001b[0m\u001b[1;33m\u001b[0m\u001b[1;33m\u001b[0m\u001b[1;33m\u001b[0m\u001b[0m\n",
      "\u001b[1;32m<ipython-input-74-4145588dea9a>\u001b[0m in \u001b[0;36m<listcomp>\u001b[1;34m(.0)\u001b[0m\n\u001b[0;32m      1\u001b[0m \u001b[1;32mdef\u001b[0m \u001b[0mmap_funcs\u001b[0m\u001b[1;33m(\u001b[0m\u001b[0mobj\u001b[0m\u001b[1;33m,\u001b[0m \u001b[0mfunc_list\u001b[0m\u001b[1;33m)\u001b[0m\u001b[1;33m:\u001b[0m\u001b[1;33m\u001b[0m\u001b[1;33m\u001b[0m\u001b[0m\n\u001b[1;32m----> 2\u001b[1;33m     \u001b[1;32mreturn\u001b[0m \u001b[1;33m[\u001b[0m\u001b[0mfunc\u001b[0m\u001b[1;33m(\u001b[0m\u001b[0mobj\u001b[0m\u001b[1;33m)\u001b[0m \u001b[1;32mfor\u001b[0m \u001b[0mfunc\u001b[0m \u001b[1;32min\u001b[0m \u001b[0mfunc_list\u001b[0m\u001b[1;33m]\u001b[0m\u001b[1;33m\u001b[0m\u001b[1;33m\u001b[0m\u001b[0m\n\u001b[0m\u001b[0;32m      3\u001b[0m \u001b[1;33m\u001b[0m\u001b[0m\n\u001b[0;32m      4\u001b[0m     \u001b[1;31m# I was under the impression that the OP wanted to compose the functions,\u001b[0m\u001b[1;33m\u001b[0m\u001b[1;33m\u001b[0m\u001b[1;33m\u001b[0m\u001b[0m\n\u001b[0;32m      5\u001b[0m     \u001b[1;31m# i.e. f3(f2(f1(f0(obj))), for which the line below is applicable:\u001b[0m\u001b[1;33m\u001b[0m\u001b[1;33m\u001b[0m\u001b[1;33m\u001b[0m\u001b[0m\n",
      "\u001b[1;31mTypeError\u001b[0m: 'int' object is not callable"
     ]
    }
   ],
   "source": [
    "def map_funcs(obj, func_list):\n",
    "    return [func(obj) for func in func_list]\n",
    "\n",
    "    # I was under the impression that the OP wanted to compose the functions,\n",
    "    # i.e. f3(f2(f1(f0(obj))), for which the line below is applicable:\n",
    "    # return reduce(lambda o, func: func(o), func_list, obj)\n",
    "\n",
    "\n",
    "map_funcs(1, [1, 2, 3, 4])"
   ]
  },
  {
   "cell_type": "code",
   "execution_count": 23,
   "metadata": {},
   "outputs": [
    {
     "name": "stdout",
     "output_type": "stream",
     "text": [
      "50\n"
     ]
    }
   ],
   "source": [
    "from functools import reduce\n",
    "f = lambda x,y: x if (x > y) else y\n",
    "l =[10,30,50,30,10]\n",
    "num = reduce(f,l)\n",
    "print(num)"
   ]
  },
  {
   "cell_type": "code",
   "execution_count": 25,
   "metadata": {},
   "outputs": [
    {
     "name": "stdout",
     "output_type": "stream",
     "text": [
      "[1.0, 0.5, 0.25, 0.125]\n"
     ]
    }
   ],
   "source": [
    "functs = [lambda x:x ** 0.5, lambda x : 1/x]\n",
    "l = [1,4,16,64]\n",
    "ans = []\n",
    "for num in l:\n",
    "    res = num\n",
    "    for funct in functs:\n",
    "        res = funct(res)\n",
    "    ans.append(res)\n",
    "\n",
    "print(ans)\n"
   ]
  },
  {
   "cell_type": "code",
   "execution_count": 40,
   "metadata": {
    "scrolled": true
   },
   "outputs": [
    {
     "name": "stdout",
     "output_type": "stream",
     "text": [
      "Is test_int integer? : False\n",
      "[1, 2, 10]\n"
     ]
    }
   ],
   "source": [
    "test_list = [1,2,'this','that','0','1.99',10]\n",
    "print (\"Is test_int integer? : \" + str(isinstance(test_list, int)))\n",
    "new_list = list(filter(lambda x: isinstance(x, int), test_list))\n",
    "print(new_list)\n"
   ]
  },
  {
   "cell_type": "code",
   "execution_count": 55,
   "metadata": {},
   "outputs": [
    {
     "name": "stdout",
     "output_type": "stream",
     "text": [
      "[1.778, 1.6001999999999998, 1.8796]\n"
     ]
    }
   ],
   "source": [
    "l = ['5ft10','5ft3','6ft2']\n",
    "l1 = []\n",
    "def convert(l):\n",
    "    for height in l:\n",
    "        h = height.split('ft')\n",
    "        feet = int(h[0])\n",
    "        inches = int(h[1])\n",
    "        tot_inches = feet*12 + inches\n",
    "        meters = tot_inches * 0.0254\n",
    "        l1.append(meters)\n",
    "    return l1\n",
    "\n",
    "#result = map(convert(), l) \n",
    "res = convert(l)\n",
    "print(res)"
   ]
  },
  {
   "cell_type": "code",
   "execution_count": 60,
   "metadata": {},
   "outputs": [
    {
     "name": "stdout",
     "output_type": "stream",
     "text": [
      "<map object at 0x000001FCD6F74550>\n"
     ]
    }
   ],
   "source": [
    "l = ['5ft10','5ft3','6ft2']\n",
    "l1 = []\n",
    "def convert(l):\n",
    "    for height in l:\n",
    "        h = height.split('ft')\n",
    "        feet = int(h[0])\n",
    "        inches = int(h[1])\n",
    "        tot_inches = feet*12 + inches\n",
    "        meters = tot_inches * 0.0254\n",
    "        l1.append(meters)\n",
    "    return l1\n",
    "\n",
    "res = map(convert, l)\n",
    "print(res)\n"
   ]
  },
  {
   "cell_type": "code",
   "execution_count": 61,
   "metadata": {},
   "outputs": [],
   "source": [
    "def my_map(my_function, my_list):\n",
    "    result = []\n",
    "    for i in my_list:\n",
    "        result.append(my_function(i))\n",
    "    return result"
   ]
  }
 ],
 "metadata": {
  "kernelspec": {
   "display_name": "Python 3",
   "language": "python",
   "name": "python3"
  },
  "language_info": {
   "codemirror_mode": {
    "name": "ipython",
    "version": 3
   },
   "file_extension": ".py",
   "mimetype": "text/x-python",
   "name": "python",
   "nbconvert_exporter": "python",
   "pygments_lexer": "ipython3",
   "version": "3.7.3"
  }
 },
 "nbformat": 4,
 "nbformat_minor": 2
}
