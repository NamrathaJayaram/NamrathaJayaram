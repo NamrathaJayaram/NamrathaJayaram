{
 "cells": [
  {
   "cell_type": "code",
   "execution_count": 2,
   "metadata": {},
   "outputs": [
    {
     "name": "stdout",
     "output_type": "stream",
     "text": [
      "Enter first number: 12\n",
      "Enter second number: 5\n",
      "False\n"
     ]
    }
   ],
   "source": [
    "n1 = int(input(\"Enter first number: \"))\n",
    "n2 = int(input(\"Enter second number: \"))\n",
    "if (n1%n2 == 0):\n",
    "    print(\"True\")\n",
    "else:\n",
    "    print(\"False\")"
   ]
  },
  {
   "cell_type": "code",
   "execution_count": 11,
   "metadata": {},
   "outputs": [
    {
     "name": "stdout",
     "output_type": "stream",
     "text": [
      "Enter first word: malayalam\n",
      "It is a palindrome\n"
     ]
    }
   ],
   "source": [
    "str1 = input(\"Enter first word: \")\n",
    "str2 = str1[::-1]\n",
    "str3 = str1.upper()\n",
    "str4 = str2.upper()\n",
    "if (str3 == str4):\n",
    "    print(\"It is a palindrome\")\n",
    "else:\n",
    "    print(\"It is not a palindrome\")"
   ]
  },
  {
   "cell_type": "code",
   "execution_count": 14,
   "metadata": {
    "scrolled": true
   },
   "outputs": [
    {
     "name": "stdout",
     "output_type": "stream",
     "text": [
      "Enter first side: 1\n",
      "Enter second side: 2\n",
      "Enter third side: 3\n",
      "Scalene\n"
     ]
    }
   ],
   "source": [
    "a = int(input(\"Enter first side: \"))\n",
    "b = int(input(\"Enter second side: \"))\n",
    "c = int(input(\"Enter third side: \"))\n",
    "if (a == b and b == c):\n",
    "    print(\"Equilateral\")\n",
    "elif (a == b or b == c):\n",
    "    print(\"Isosceles\")\n",
    "else:\n",
    "    print(\"Scalene\")"
   ]
  },
  {
   "cell_type": "code",
   "execution_count": 16,
   "metadata": {},
   "outputs": [
    {
     "name": "stdout",
     "output_type": "stream",
     "text": [
      "Enter a number: 13\n",
      "Odd\n"
     ]
    }
   ],
   "source": [
    "num = int(input(\"Enter a number: \"))\n",
    "if (num %2 == 0):\n",
    "    print(\"Even\")\n",
    "else:\n",
    "    print(\"Odd\")"
   ]
  },
  {
   "cell_type": "code",
   "execution_count": 22,
   "metadata": {},
   "outputs": [
    {
     "name": "stdout",
     "output_type": "stream",
     "text": [
      "Enter your age: 190\n",
      "Contratulations\n"
     ]
    }
   ],
   "source": [
    "age = int(input(\"Enter your age: \"))\n",
    "if (age > 0 and age <= 12):\n",
    "    print(\"Child\")\n",
    "elif (age > 12 and age <= 17):\n",
    "    print(\"Teen\")\n",
    "elif (age > 17 and age <= 50):\n",
    "    print(\"Adult\")\n",
    "elif (age > 50 and age <= 100):\n",
    "    print(\"Senior citizen\")\n",
    "else:\n",
    "    print(\"Contratulations\")"
   ]
  },
  {
   "cell_type": "code",
   "execution_count": 33,
   "metadata": {},
   "outputs": [
    {
     "name": "stdout",
     "output_type": "stream",
     "text": [
      "Enter year: 2000\n",
      "Leap year\n"
     ]
    }
   ],
   "source": [
    "year = int(input(\"Enter year: \"))\n",
    "count = 0\n",
    "while(year>0):\n",
    "    year = year//10\n",
    "    count = count + 1\n",
    "\n",
    "    \n",
    "if (count == 4 and year % 4 == 0 and (year % 100 != 0 or year % 400 == 0)):\n",
    "    print(\"Leap year\")\n",
    "else:\n",
    "    print(\"Not a leap year\")\n"
   ]
  },
  {
   "cell_type": "code",
   "execution_count": 35,
   "metadata": {},
   "outputs": [
    {
     "name": "stdout",
     "output_type": "stream",
     "text": [
      "Enter the string: STR\n",
      "str\n"
     ]
    }
   ],
   "source": [
    "str1 = input(\"Enter the string: \")\n",
    "length = len(str1)\n",
    "if (length % 2 == 0):\n",
    "    print(str1.upper())\n",
    "else:\n",
    "    print(str1.lower())"
   ]
  },
  {
   "cell_type": "code",
   "execution_count": 41,
   "metadata": {},
   "outputs": [
    {
     "name": "stdout",
     "output_type": "stream",
     "text": [
      "Enter the string: spinach\n",
      "Veg\n"
     ]
    }
   ],
   "source": [
    "str2 = input(\"Enter the string: \")\n",
    "if ('egg' in str2):\n",
    "    print(\"Non-Veg\")\n",
    "else:\n",
    "    print(\"Veg\")"
   ]
  },
  {
   "cell_type": "code",
   "execution_count": 42,
   "metadata": {
    "collapsed": true
   },
   "outputs": [
    {
     "name": "stdout",
     "output_type": "stream",
     "text": [
      "true\n"
     ]
    }
   ],
   "source": [
    "if not 1:\n",
    "    print(\"false\")\n",
    "else:\n",
    "    print(\"true\")"
   ]
  },
  {
   "cell_type": "code",
   "execution_count": 43,
   "metadata": {},
   "outputs": [
    {
     "name": "stdout",
     "output_type": "stream",
     "text": [
      "true\n"
     ]
    }
   ],
   "source": [
    "if 1:\n",
    "    print(\"true\")\n",
    "else:\n",
    "    print(\"false\")"
   ]
  },
  {
   "cell_type": "code",
   "execution_count": 45,
   "metadata": {},
   "outputs": [
    {
     "name": "stdout",
     "output_type": "stream",
     "text": [
      "Weird!!\n"
     ]
    }
   ],
   "source": [
    "if 'a' > 'A':\n",
    "    print(\"Weird!!\")\n",
    "else:\n",
    "    print(\"Makes sense\")"
   ]
  },
  {
   "cell_type": "code",
   "execution_count": 46,
   "metadata": {},
   "outputs": [
    {
     "name": "stdout",
     "output_type": "stream",
     "text": [
      "[4, 3, 2, 1]\n"
     ]
    }
   ],
   "source": [
    "a = [1,2,3,4]\n",
    "if 1>1:\n",
    "    a= a[::-1]\n",
    "else:\n",
    "    a = a[-1::-1]\n",
    "print(a)"
   ]
  },
  {
   "cell_type": "code",
   "execution_count": 58,
   "metadata": {},
   "outputs": [],
   "source": [
    "a = [1,2,3,4,5]\n",
    "a = a[-1::-1]\n",
    "a = a[1::-1]"
   ]
  },
  {
   "cell_type": "code",
   "execution_count": 61,
   "metadata": {
    "scrolled": true
   },
   "outputs": [
    {
     "name": "stdout",
     "output_type": "stream",
     "text": [
      "Enter subject 1 marks: 76\n",
      "Enter subject 2 marks: 54\n",
      "Enter subject 3 marks: 78\n",
      "Enter subject 4 marks: 90\n",
      "Enter subject 5 marks: 97\n",
      "79.0\n",
      "Grade C\n"
     ]
    }
   ],
   "source": [
    "subj1 = int(input(\"Enter subject 1 marks: \"))\n",
    "subj2 = int(input(\"Enter subject 2 marks: \"))\n",
    "subj3 = int(input(\"Enter subject 3 marks: \"))\n",
    "subj4 = int(input(\"Enter subject 4 marks: \"))\n",
    "subj5 = int(input(\"Enter subject 5 marks: \"))\n",
    "\n",
    "percentage = (subj1+ subj2 + subj3 + subj4 + subj5)/5\n",
    "print(percentage)\n",
    "\n",
    "if (percentage >= 90 and percentage <=100):\n",
    "    print(\"Grade A\")\n",
    "elif (percentage >= 80 and percentage <=89):\n",
    "    print(\"Grade B\")\n",
    "elif(percentage >= 60 and percentage <=79):\n",
    "    print(\"Grade C\")\n",
    "else:\n",
    "    print(\"Grade F\")\n",
    "    "
   ]
  },
  {
   "cell_type": "code",
   "execution_count": 62,
   "metadata": {},
   "outputs": [
    {
     "name": "stdout",
     "output_type": "stream",
     "text": [
      "Enter age: 1200000\n",
      "Enter salary: 1200000\n",
      "sal is:  1164000.0\n"
     ]
    }
   ],
   "source": [
    "age = int(input(\"Enter age: \"))\n",
    "sal = int(input(\"Enter salary: \"))\n",
    "\n",
    "if(sal > 0 and sal<=250000):\n",
    "    if(age> 60 or age<=60):\n",
    "        print(\"sal is: \",(0/100)*sal)\n",
    "elif(sal >250000 and sal>=500000):\n",
    "    if(age<60):\n",
    "        print(\"sal is: \",(5/100)*sal)\n",
    "    else:\n",
    "        print(\"sal is: \",(3/100)*sal)\n",
    "elif(sal >500000 and sal>=1000000):\n",
    "    if(age<60):\n",
    "        print(\"sal is: \",(10/100)*sal)\n",
    "    else:\n",
    "        print(\"sal is: \",(8/100)*sal)\n",
    "else:\n",
    "    if(age<60):\n",
    "        print(\"sal is: \",(15/100)*sal)\n",
    "    else:\n",
    "        print(\"sal is: \",(12/100)*sal)"
   ]
  },
  {
   "cell_type": "code",
   "execution_count": 64,
   "metadata": {
    "scrolled": true
   },
   "outputs": [
    {
     "name": "stdout",
     "output_type": "stream",
     "text": [
      "weight: 87\n",
      "height: 190\n",
      "0.002409972299168975\n",
      "Under Weight\n"
     ]
    }
   ],
   "source": [
    "def bmi(w,h):\n",
    "    bmi=w/(h * h)\n",
    "    print(bmi)\n",
    "    if (bmi < 18.5 ):\n",
    "        print(\"Under Weight\")\n",
    "    elif (bmi < 25 and bmi > 18.5):\n",
    "        print(\"Normal Weight\")\n",
    "    elif(bmi > 25 and bmi < 30):\n",
    "        print(\"Over Weight\")\n",
    "    else:\n",
    "        print(\"Obese\")\n",
    "\n",
    "\n",
    "w = float(input(\"weight: \"))\n",
    "h = float(input(\"height: \"))\n",
    "bmi(w,h)    "
   ]
  },
  {
   "cell_type": "code",
   "execution_count": 71,
   "metadata": {
    "scrolled": true
   },
   "outputs": [
    {
     "name": "stdout",
     "output_type": "stream",
     "text": [
      "a1 age: 1\n",
      "a2 age: 2\n",
      "a3 age: 3\n",
      "a3 is oldest\n",
      "a1 is youngest\n"
     ]
    }
   ],
   "source": [
    "a1 = int(input(\"a1 age: \"))\n",
    "a2 = int(input(\"a2 age: \"))\n",
    "a3 = int(input(\"a3 age: \"))\n",
    "\n",
    "if(a1>=a2 and a1>=a3):\n",
    "    print(\"a1 is oldest\")\n",
    "    if(a2>a3):\n",
    "        print(\"a3 is youngest\")\n",
    "    else:\n",
    "        print(\"a2 is youngest\")\n",
    "elif(a2>=a1 and a2>=a3):\n",
    "    print(\"a2 is oldest\")\n",
    "    if(a1>a3):\n",
    "        print(\"a3 is youngest\")\n",
    "    else:\n",
    "        print(\"a2 is youngest\")\n",
    "else:\n",
    "    print(\"a3 is oldest\")\n",
    "    if(a2>a1):\n",
    "        print(\"a1 is youngest\")\n",
    "    else:\n",
    "        print(\"a2 is youngest\")"
   ]
  },
  {
   "cell_type": "code",
   "execution_count": 74,
   "metadata": {},
   "outputs": [
    {
     "name": "stdout",
     "output_type": "stream",
     "text": [
      "Enter a number: 42\n",
      "Number 42 is not divisible by both 5 and 7\n"
     ]
    }
   ],
   "source": [
    "n = int(input(\"Enter a number: \"))\n",
    "if (n % 5 == 0 and n% 7 == 0):\n",
    "    print(\"Number {} is divisible by both 5 and 7\".format(n))\n",
    "else:\n",
    "     print(\"Number {} is not divisible by both 5 and 7\".format(n))"
   ]
  }
 ],
 "metadata": {
  "kernelspec": {
   "display_name": "Python 3",
   "language": "python",
   "name": "python3"
  },
  "language_info": {
   "codemirror_mode": {
    "name": "ipython",
    "version": 3
   },
   "file_extension": ".py",
   "mimetype": "text/x-python",
   "name": "python",
   "nbconvert_exporter": "python",
   "pygments_lexer": "ipython3",
   "version": "3.7.3"
  }
 },
 "nbformat": 4,
 "nbformat_minor": 2
}
